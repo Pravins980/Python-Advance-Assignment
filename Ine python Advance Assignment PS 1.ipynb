{
 "cells": [
  {
   "cell_type": "markdown",
   "id": "76f70a2f",
   "metadata": {},
   "source": [
    "Q1. What is the purpose of Python OOP?\n",
    "ANS=In Python, object-oriented Programming (OOPs) is a programming paradigm that uses objects and classes in programming.\n",
    " It aims to implement real-world entities like inheritance, polymorphisms, encapsulation, etc. in the programming.\n",
    "The main concept of OOPs is to bind the data and the functions that work on that together as a single unit so that no other part of the code can access this data. \n",
    "1.Class\n",
    "2.Objects\n",
    "3.Polymorphism\n",
    "4.Encapsulation\n",
    "5.Inheritance"
   ]
  },
  {
   "cell_type": "markdown",
   "id": "55d28cd3",
   "metadata": {},
   "source": [
    "Q2. Where does an inheritance search look for an attribute?\n",
    "ANS=Python searches for an attribute in an upward tree of attributes. it first searches for the attribute in its instance and then looks in the class it is generated from, to all super classes listed in its class header"
   ]
  },
  {
   "cell_type": "code",
   "execution_count": null,
   "id": "1944f43f",
   "metadata": {},
   "outputs": [],
   "source": [
    "Q3. How do you distinguish between a class object and an instance object?\n",
    "ANS= The differences between a class object and an instance object are:\n",
    "\n",
    "1.Class is a template for creating objects whereas object is an instance of class\n",
    "2.Seperate memory is allocated for each object whenever an object is created. but for a class this doesnot happens.\n",
    "3.A Class is created once. Many objects are created using a class.\n",
    "4.As Classes have no allocated memory. they can't be manipulated. but objects can be manipulated."
   ]
  },
  {
   "cell_type": "markdown",
   "id": "e3c3bd98",
   "metadata": {},
   "source": [
    "Q4. What makes the first argument in a class’s method function special?\n",
    "ANS=n object-oriented programming, whenever we define methods for a class, we use self as the first parameter in each case. Let's look at the definition of a class called Cat.\n",
    "class MyClass:\n",
    "    def func(self, name):\n",
    "        self.name = name"
   ]
  },
  {
   "cell_type": "markdown",
   "id": "b464fb07",
   "metadata": {},
   "source": [
    "Q5. What is the purpose of the __init__ method?\n",
    "ANS=When you make a new class in Python the first method you'll likely make is the __init__ method. The __init__ method allows you to accept arguments to your class. More importantly, the __init__ method allows you to assign initial values to various attributes on your class instances."
   ]
  },
  {
   "cell_type": "markdown",
   "id": "67184341",
   "metadata": {},
   "source": [
    "Q6. What is the process for creating a class instance?\n",
    "To create a class instance, we need to call the class by its name and pass the arguments to the class, which its init method accepts.\n",
    "\n",
    "Example: my_name = my_class(\"pravin\",\"sharma\") Here my_name is an instance of class my_class with attributes \"pravin\",\n",
    "\"sharma\""
   ]
  },
  {
   "cell_type": "markdown",
   "id": "f14e2cc2",
   "metadata": {},
   "source": [
    "Q7. What is the process for creating a class?\n",
    "ANS=class keyword is used to created a class in python. The syntax to create a class in python is class <classname>:\n",
    "\n",
    "Example: class Car: ➞ this creates a class called Car"
   ]
  },
  {
   "cell_type": "markdown",
   "id": "054ab634",
   "metadata": {},
   "source": [
    "Q8. How would you define the superclasses of a class?\n",
    "ANS= Superclass/Parent class is given as a arugment to the child class\n",
    "\n",
    "Example: class Employee(Person): Here child class Employee inherits attributes and methofs from Superclass/Parent Person"
   ]
  }
 ],
 "metadata": {
  "kernelspec": {
   "display_name": "Python 3",
   "language": "python",
   "name": "python3"
  },
  "language_info": {
   "codemirror_mode": {
    "name": "ipython",
    "version": 3
   },
   "file_extension": ".py",
   "mimetype": "text/x-python",
   "name": "python",
   "nbconvert_exporter": "python",
   "pygments_lexer": "ipython3",
   "version": "3.9.5"
  }
 },
 "nbformat": 4,
 "nbformat_minor": 5
}
