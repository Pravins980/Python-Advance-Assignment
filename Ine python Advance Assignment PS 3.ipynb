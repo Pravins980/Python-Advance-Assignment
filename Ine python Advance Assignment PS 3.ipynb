{
 "cells": [
  {
   "cell_type": "markdown",
   "id": "1bb38218",
   "metadata": {},
   "source": [
    "1. What is the concept of an abstract superclass?\n",
    "ANS=A common superclass for several subclasses. Factor up common behavior. Define the methods they all respond to. Methods that subclasses should implement are declared abstract."
   ]
  },
  {
   "cell_type": "markdown",
   "id": "d31afb78",
   "metadata": {},
   "source": [
    "2. What happens when a class statement top level contains a basic assignment statement?\n",
    "ANS=When a Class statement's top level contains a basic assignment statement, its usually treated as a class attribute or class level variable.\n",
    "where as assignment statements inside methods are treated as instance attributes or local attributes.\n",
    "When an instance of a class is created a single copy of class attributes is maintained and shared to all instances of class. where as each instance object maintains its own copy of instance variables.\n",
    "\n"
   ]
  },
  {
   "cell_type": "markdown",
   "id": "9d858b2e",
   "metadata": {},
   "source": [
    "3. Why does a class need to manually call a superclass's init method?\n",
    "Ans: if a child class has __init__ method, then it will not inherit the __init__ method of the parent class. in other words the __init__ method of the child class overrides the __init__ method of the parent class. so we have to manually call a parent superclass's __init__ using super() method\n",
    "\n",
    "class Person:"
   ]
  },
  {
   "cell_type": "markdown",
   "id": "e2854703",
   "metadata": {},
   "source": [
    "4. How can you augment, instead of completely replacing, an inherited method?\n",
    "Ans: super() method can be used to augment, instead of completely replacing, an inherited method."
   ]
  },
  {
   "cell_type": "markdown",
   "id": "ae7f3985",
   "metadata": {},
   "source": [
    "5. How is the local scope of a class different from that of a function?\n",
    "Ans: A Variable which is defined inside a function is local to that function. it is accesible from the point at which it is defined until the end of the function, and exists for as long as the function is existing.\n",
    "\n",
    "Similary a variable inside of a class also has a local variable scope. Variables which are defined in the class body (but outside all methods) are called as class level variables or class attributes. they can be referenced by there bare names within the same scope, but they can also be accessed from outside this scope if we use the attribute access operator (.). on a class or an instance of the class."
   ]
  }
 ],
 "metadata": {
  "kernelspec": {
   "display_name": "Python 3",
   "language": "python",
   "name": "python3"
  },
  "language_info": {
   "codemirror_mode": {
    "name": "ipython",
    "version": 3
   },
   "file_extension": ".py",
   "mimetype": "text/x-python",
   "name": "python",
   "nbconvert_exporter": "python",
   "pygments_lexer": "ipython3",
   "version": "3.8.8"
  }
 },
 "nbformat": 4,
 "nbformat_minor": 5
}
