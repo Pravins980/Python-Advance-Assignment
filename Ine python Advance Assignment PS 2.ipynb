{
 "cells": [
  {
   "cell_type": "code",
   "execution_count": null,
   "id": "11a047e8",
   "metadata": {},
   "outputs": [],
   "source": [
    "Q1.What is the relationship between classes and modules?\n",
    "ANS= class is a vblue print and the module is pice of the code in modul write a function in .py file for the reusibility\n",
    "Modules may be mixed in to classes and other modules.\n"
   ]
  },
  {
   "cell_type": "code",
   "execution_count": null,
   "id": "f8f32cc7",
   "metadata": {},
   "outputs": [],
   "source": [
    "Q2. How do you make instances and classes?\n",
    "ANS=call the class using class name and pass in whatever arguments its __init__ method accepts"
   ]
  },
  {
   "cell_type": "code",
   "execution_count": null,
   "id": "991b093a",
   "metadata": {},
   "outputs": [],
   "source": [
    "Q3. Where and how should be class attributes created?\n",
    "ANS= class part are createt on the top when we want to re use code."
   ]
  },
  {
   "cell_type": "code",
   "execution_count": null,
   "id": "0baca9d7",
   "metadata": {},
   "outputs": [],
   "source": [
    "4. Where and how are instance attributes created?\n",
    "ANS=inside the constructor function of a class. For example, __init__(self,..)."
   ]
  },
  {
   "cell_type": "code",
   "execution_count": null,
   "id": "88d4cd3b",
   "metadata": {},
   "outputs": [],
   "source": [
    "Q5.what dose the term \"self\" in a Python class mean\n",
    "ANS=self is a pointer in a class function"
   ]
  },
  {
   "cell_type": "code",
   "execution_count": null,
   "id": "48251ccb",
   "metadata": {},
   "outputs": [],
   "source": [
    "Q6. How does a Python class handle operator overloading?\n",
    "ANS=The operator overloading in Python means provide extended meaning beyond their predefined operational meaning Eg.the + operator will perform arithmetic addition on two numbers, merge two lists, or concatenate two strings."
   ]
  },
  {
   "cell_type": "code",
   "execution_count": null,
   "id": "58d62cf8",
   "metadata": {},
   "outputs": [],
   "source": [
    "Q7.When do you consider allowing operator overloading of your classes?\n",
    "ANS =YES! i a do with the inharitance from parent class to chaild class!"
   ]
  },
  {
   "cell_type": "code",
   "execution_count": null,
   "id": "23720e51",
   "metadata": {},
   "outputs": [],
   "source": [
    "Q8.What is the most popular form of operator overloading?\n",
    "ANS=A very popular and convenient example is the Addition (+) operator."
   ]
  },
  {
   "cell_type": "code",
   "execution_count": null,
   "id": "ee3b7788",
   "metadata": {},
   "outputs": [],
   "source": [
    "Q9. What are the two most important concepts to grasp in order to comprehend\n",
    "ANS=Both inheritance and polymorphism are fundamental concepts of object oriented programming. "
   ]
  }
 ],
 "metadata": {
  "kernelspec": {
   "display_name": "Python 3",
   "language": "python",
   "name": "python3"
  },
  "language_info": {
   "codemirror_mode": {
    "name": "ipython",
    "version": 3
   },
   "file_extension": ".py",
   "mimetype": "text/x-python",
   "name": "python",
   "nbconvert_exporter": "python",
   "pygments_lexer": "ipython3",
   "version": "3.8.8"
  }
 },
 "nbformat": 4,
 "nbformat_minor": 5
}
